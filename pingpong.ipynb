{
  "cells": [
    {
      "cell_type": "code",
      "execution_count": null,
      "metadata": {
        "colab": {
          "base_uri": "https://localhost:8080/"
        },
        "id": "MroyTnl3_35I",
        "outputId": "2d5ac7eb-310e-47ae-cfc8-66f9d5f2aaff"
      },
      "outputs": [
        {
          "output_type": "stream",
          "name": "stdout",
          "text": [
            "Drive already mounted at /content/gdrive/; to attempt to forcibly remount, call drive.mount(\"/content/gdrive/\", force_remount=True).\n"
          ]
        }
      ],
      "source": [
        "#Mounting into google drive\n",
        "from google.colab import drive\n",
        "drive.mount('/content/gdrive/')"
      ]
    },
    {
      "cell_type": "code",
      "execution_count": null,
      "metadata": {
        "id": "F3kTdu8Z_8hX",
        "colab": {
          "base_uri": "https://localhost:8080/"
        },
        "outputId": "f0d6255c-7191-448c-89e5-bbe7d7ae20e4"
      },
      "outputs": [
        {
          "output_type": "stream",
          "name": "stdout",
          "text": [
            "\r0% [Working]\r            \rHit:1 http://archive.ubuntu.com/ubuntu bionic InRelease\n",
            "Hit:2 http://archive.ubuntu.com/ubuntu bionic-updates InRelease\n",
            "Hit:3 https://cloud.r-project.org/bin/linux/ubuntu bionic-cran40/ InRelease\n",
            "Hit:4 http://archive.ubuntu.com/ubuntu bionic-backports InRelease\n",
            "Ign:5 https://developer.download.nvidia.com/compute/machine-learning/repos/ubuntu1804/x86_64  InRelease\n",
            "Hit:6 https://developer.download.nvidia.com/compute/cuda/repos/ubuntu1804/x86_64  InRelease\n",
            "Hit:7 http://ppa.launchpad.net/c2d4u.team/c2d4u4.0+/ubuntu bionic InRelease\n",
            "Hit:8 https://developer.download.nvidia.com/compute/machine-learning/repos/ubuntu1804/x86_64  Release\n",
            "Hit:9 http://ppa.launchpad.net/cran/libgit2/ubuntu bionic InRelease\n",
            "Hit:10 http://security.ubuntu.com/ubuntu bionic-security InRelease\n",
            "Hit:11 http://ppa.launchpad.net/deadsnakes/ppa/ubuntu bionic InRelease\n",
            "Hit:12 http://ppa.launchpad.net/graphics-drivers/ppa/ubuntu bionic InRelease\n",
            "Reading package lists... Done\n",
            "Reading package lists... Done\n",
            "Building dependency tree       \n",
            "Reading state information... Done\n",
            "python3.9 is already the newest version (3.9.13-1+bionic1).\n",
            "The following package was automatically installed and is no longer required:\n",
            "  libnvidia-common-460\n",
            "Use 'sudo apt autoremove' to remove it.\n",
            "0 upgraded, 0 newly installed, 0 to remove and 24 not upgraded.\n",
            "update-alternatives: using /usr/bin/python3.9 to provide /usr/bin/python3 (python3) in auto mode\n"
          ]
        }
      ],
      "source": [
        "#Importing libraries and dependencies\n",
        "import cv2 #OpenCv library\n",
        "import os #Os to navigate through directories\n",
        "from google.colab.patches import cv2_imshow #Displaying the image\n",
        "import numpy as np #Numpy\n",
        "from skimage.util import random_noise #scikit learn to apply random noise\n",
        "import random\n",
        "import matplotlib.pyplot as plt\n",
        "import matplotlib.image as mpimg\n",
        "import math\n",
        "import pandas as pd\n",
        "!sudo apt-get update -y\n",
        "!sudo apt-get install python3.9\n",
        "#change alternatives\n",
        "!sudo update-alternatives --install /usr/bin/python3 python3 /usr/bin/python3.7 1\n",
        "!sudo update-alternatives --install /usr/bin/python3 python3 /usr/bin/python3.9 2\n"
      ]
    },
    {
      "cell_type": "code",
      "execution_count": null,
      "metadata": {
        "colab": {
          "base_uri": "https://localhost:8080/"
        },
        "id": "fv8nQAXAIV_A",
        "outputId": "b15b93cd-3915-4f05-956b-f77a5fe70449"
      },
      "outputs": [
        {
          "output_type": "stream",
          "name": "stdout",
          "text": [
            "The total number of images in this folders are: 67\n"
          ]
        }
      ],
      "source": [
        "#Now let's check the total number of images in the folder\n",
        "folder = os.listdir('/content/gdrive/My Drive/pingpong/photos')\n",
        "total_images = [x for x in folder if x.split('.')[-1]=='jpg']\n",
        "print('The total number of images in this folders are: {}'.format(len(total_images)))"
      ]
    },
    {
      "cell_type": "code",
      "execution_count": null,
      "metadata": {
        "id": "470tOIGt5qna"
      },
      "outputs": [],
      "source": [
        "#Let's create a function for hsv colour range format\n",
        "def hsv_range(image,color_lower:tuple,color_upper:tuple):\n",
        "  return cv2.inRange(image,color_lower,color_upper)"
      ]
    },
    {
      "cell_type": "code",
      "execution_count": null,
      "metadata": {
        "id": "qf565JBqdUOv"
      },
      "outputs": [],
      "source": [
        "def image_preprocessing(directory,Minvalue:tuple,Maxvalue:tuple): #Since we know that hmin and hmax value is tuple,we are passing hyperparameters as tuple\n",
        "  image = cv2.imread(directory)\n",
        "  #Let's blur down the image a bit to reduce the noise in the image\n",
        "  image = cv2.GaussianBlur(image, (5, 5), 0)\n",
        "  image = cv2.cvtColor(image,cv2.COLOR_BGR2HSV)\n",
        "  image = hsv_range(image,Minvalue,Maxvalue)\n",
        "  return image"
      ]
    },
    {
      "cell_type": "code",
      "execution_count": null,
      "metadata": {
        "id": "pgO2x4oAA5tZ"
      },
      "outputs": [],
      "source": [
        "def group_preprocessed(total_image):\n",
        "  pic_directory = os.listdir(r'/content/gdrive/My Drive/pingpong/photos/')\n",
        "  pic_directory = pic_directory[:total_image]\n",
        "  processed_images = []\n",
        "  for image in pic_directory:\n",
        "    if image.split('.')[-1]=='jpg':\n",
        "      src = os.path.join(r'/content/gdrive/My Drive/pingpong/photos/',image) \n",
        "      single_image = processed_images.append(image_preprocessing(src,(0,0,173),(179,44,255))) #Passing single images in image_preprocessing function\n",
        "  return processed_images"
      ]
    },
    {
      "cell_type": "code",
      "execution_count": null,
      "metadata": {
        "colab": {
          "base_uri": "https://localhost:8080/"
        },
        "id": "fnjHFaNMVTn7",
        "outputId": "f33e8455-6e84-4fd1-bf2f-8031104dd2aa"
      },
      "outputs": [
        {
          "output_type": "stream",
          "name": "stdout",
          "text": [
            "Connected Components 1 and the pic number is 1 and the centroid is[array([138.39484979,  28.30901288])]\n",
            "Connected Components 1 and the pic number is 2 and the centroid is[array([139.109375,  42.421875])]\n",
            "Connected Components 1 and the pic number is 3 and the centroid is[array([139.93040293,  61.55677656])]\n",
            "Connected Components 1 and the pic number is 4 and the centroid is[array([140.37847222,  85.4375    ])]\n",
            "Connected Components 1 and the pic number is 5 and the centroid is[array([141.17346939, 113.97619048])]\n",
            "Connected Components 1 and the pic number is 6 and the centroid is[array([142.05418719, 141.87192118])]\n",
            "Connected Components 1 and the pic number is 7 and the centroid is[array([141.64224138, 115.60775862])]\n",
            "Connected Components 1 and the pic number is 8 and the centroid is[array([141.47008547,  91.47435897])]\n",
            "Connected Components 1 and the pic number is 9 and the centroid is[array([141.48341232,  71.58293839])]\n",
            "Connected Components 1 and the pic number is 10 and the centroid is[array([141.485,  56.665])]\n",
            "Connected Components 1 and the pic number is 11 and the centroid is[array([141.1420765,  46.0273224])]\n",
            "Connected Components 1 and the pic number is 12 and the centroid is[array([140.92857143,  40.21428571])]\n",
            "Connected Components 1 and the pic number is 13 and the centroid is[array([140.80503145,  38.19496855])]\n"
          ]
        }
      ],
      "source": [
        "final_images = []\n",
        "final_centroids = []\n",
        "for i in range(1,14):\n",
        "  original_image = cv2.imread('/content/gdrive/My Drive/pingpong/photos/stennis{}.jpg'.format(i))\n",
        "  output = cv2.connectedComponentsWithStats(image_preprocessing('/content/gdrive/My Drive/pingpong/photos/stennis{}.jpg'.format(i),(0,0,196),(178,49,255)), cv2.CV_32S)\n",
        "  (numLabels, labels, stats, centroids) = output #Tuples \n",
        "\n",
        "  for j in range(0,numLabels):\n",
        "    # if j==0:\n",
        "    #   text = 'Examining componeents{}/{}(background)'.format(j,numLabels)\n",
        "    # else:\n",
        "    #   text = 'Objects found. Examining {}/{} connected components inside this image'.format(j,numLabels)\n",
        "\n",
        "    # print('Image info : {}'.format(text))\n",
        "\n",
        "    x = stats[j, cv2.CC_STAT_LEFT]\n",
        "    y = stats[j, cv2.CC_STAT_TOP]\n",
        "    w = stats[j, cv2.CC_STAT_WIDTH]\n",
        "    h = stats[j, cv2.CC_STAT_HEIGHT]\n",
        "    area = stats[j, cv2.CC_STAT_AREA]\n",
        "    (cX, cY) = centroids[j]\n",
        "\n",
        "    Width_keep = w>10 and w<25\n",
        "    Height_keep = h>10 and h<25\n",
        "    Area_keep = area>120 and area<350\n",
        "\n",
        "    output = original_image.copy()\n",
        "\n",
        "    if all((Width_keep,Height_keep,Area_keep)):\n",
        "      print('Connected Components {} and the pic number is {} and the centroid is{}'.format(j,i,[centroids[j]]))\n",
        "      cv2.rectangle(output, (x, y), (x + w, y + h), (255, 255, 0),2)\n",
        "      cv2.circle(output, (int(cX), int(cY)),1, (0, 0, 255), -1)\n",
        "      final_images.append(output)\n",
        "      final_centroids.append(centroids[j])\n",
        "    # output = original_image.copy()\n",
        "    # cv2.rectangle(output, (x, y), (x + w, y + h), (255, 255, 0),1)\n",
        "    # cv2.circle(output, (int(cX), int(cY)),1, (0, 0, 255), -1)\n",
        "\n",
        "    # componentMask = (labels == i).astype(\"uint8\")*255 #Converting every labels that the masks detected into white colour\n",
        "    # cv2_imshow(output)"
      ]
    },
    {
      "cell_type": "code",
      "execution_count": null,
      "metadata": {
        "colab": {
          "base_uri": "https://localhost:8080/"
        },
        "id": "VIdrJkgjSn4L",
        "outputId": "df3ec30f-6660-46ef-8aab-c95752ffb340"
      },
      "outputs": [
        {
          "output_type": "stream",
          "name": "stdout",
          "text": [
            "Connected Components found and the pic number is 14 and the centroid is[array([140.82926829,  39.87804878])]\n",
            "Connected Components found and the pic number is 15 and the centroid is[array([141.11290323,  45.99193548])]\n",
            "Connected Components found and the pic number is 16 and the centroid is[array([141.05147059,  56.19852941])]\n",
            "Connected Components found and the pic number is 17 and the centroid is[array([141.41044776,  69.96268657])]\n",
            "Connected Components found and the pic number is 18 and the centroid is[array([141.58273381,  87.28776978])]\n",
            "Connected Components found and the pic number is 19 and the centroid is[array([142.05072464, 107.65217391])]\n",
            "Connected Components found and the pic number is 20 and the centroid is[array([142.15942029, 130.5       ])]\n",
            "Connected Components found and the pic number is 21 and the centroid is[array([142.63809524, 126.66666667])]\n",
            "Connected Components found and the pic number is 22 and the centroid is[array([143.5047619 , 106.53333333])]\n",
            "Connected Components found and the pic number is 23 and the centroid is[array([143.57894737,  90.14736842])]\n",
            "Connected Components found and the pic number is 24 and the centroid is[array([144.12195122,  77.52439024])]\n",
            "Connected Components found and the pic number is 25 and the centroid is[array([144.94520548,  68.16438356])]\n",
            "Connected Components found and the pic number is 26 and the centroid is[array([145.14492754,  62.86956522])]\n",
            "Connected Components found and the pic number is 27 and the centroid is[array([145.74137931,  60.22413793])]\n",
            "Connected Components found and the pic number is 28 and the centroid is[array([146.07142857,  61.05357143])]\n",
            "Connected Components found and the pic number is 29 and the centroid is[array([146.87272727,  64.14545455])]\n",
            "Connected Components found and the pic number is 30 and the centroid is[array([147.0862069 ,  70.44827586])]\n"
          ]
        }
      ],
      "source": [
        "for i in range(14,31):\n",
        "  original_image = cv2.imread('/content/gdrive/My Drive/pingpong/photos/stennis{}.jpg'.format(i))\n",
        "  output = cv2.connectedComponentsWithStats(image_preprocessing('/content/gdrive/My Drive/pingpong/photos/stennis{}.jpg'.format(i),(0,0,204),(1701,26,255)), cv2.CV_32S)\n",
        "  (numLabels, labels, stats, centroids) = output #Tuples \n",
        "\n",
        "  for j in range(0,numLabels):\n",
        "    # if j==0:\n",
        "    #   text = 'Examining componeents{}/{}(background)'.format(j,numLabels)\n",
        "    # else:\n",
        "    #   text = 'Objects found. Examining {}/{} connected components inside this image'.format(j,numLabels)\n",
        "\n",
        "    # print('Image info : {}'.format(text))\n",
        "\n",
        "    x = stats[j, cv2.CC_STAT_LEFT]\n",
        "    y = stats[j, cv2.CC_STAT_TOP]\n",
        "    w = stats[j, cv2.CC_STAT_WIDTH]\n",
        "    h = stats[j, cv2.CC_STAT_HEIGHT]\n",
        "    area = stats[j, cv2.CC_STAT_AREA]\n",
        "    (cX, cY) = centroids[j]\n",
        "\n",
        "    Width_keep = w>5 and w<16\n",
        "    Height_keep = h>5 and h<16\n",
        "    Area_keep = area>50 and area<150\n",
        "\n",
        "    # Height22,width10,and area is168\n",
        "    #Height9,width9,and area is63\n",
        "\n",
        "\n",
        "    output = original_image.copy()\n",
        "\n",
        "\n",
        "    if all((Width_keep,Height_keep,Area_keep)):\n",
        "      print('Connected Components found and the pic number is {} and the centroid is{}'.format(i,[centroids[j]]))\n",
        "      cv2.rectangle(output, (x, y), (x + w, y + h), (255, 255, 0),2)\n",
        "      cv2.circle(output, (int(cX), int(cY)),1, (0, 0, 255), -1)\n",
        "      #cv2_imshow(output)\n",
        "      final_images.append(output)\n",
        "      final_centroids.append(centroids[j])\n",
        "\n",
        "    # output = original_image.copy()\n",
        "    # cv2.rectangle(output, (x, y), (x + w, y + h), (255, 255, 0),1)\n",
        "    # cv2.circle(output, (int(cX), int(cY)),1, (0, 0, 255), -1)\n",
        "\n",
        "    # componentMask = (labels == i).astype(\"uint8\")*255 #Converting every labels that the masks detected into white colour\n",
        "    # cv2_imshow(output)"
      ]
    },
    {
      "cell_type": "code",
      "execution_count": null,
      "metadata": {
        "colab": {
          "base_uri": "https://localhost:8080/"
        },
        "id": "Wjg9Kq8QSn_x",
        "outputId": "f6326f53-a579-4966-b14f-7db79ecdfc0c"
      },
      "outputs": [
        {
          "output_type": "stream",
          "name": "stdout",
          "text": [
            "Connected Components found and the pic number is 31 and the centroid is[array([147.25510204,  79.51020408])]\n",
            "Connected Components found and the pic number is 32 and the centroid is[array([147.75700935,  90.85046729])]\n"
          ]
        }
      ],
      "source": [
        "#For frame 31 to 33\n",
        "for i in range(31,33):\n",
        "  original_image = cv2.imread('/content/gdrive/My Drive/pingpong/photos/stennis{}.jpg'.format(i))\n",
        "  output = cv2.connectedComponentsWithStats(image_preprocessing('/content/gdrive/My Drive/pingpong/photos/stennis{}.jpg'.format(i),(0,0,191),(161,255,255)), cv2.CV_32S)\n",
        "  (numLabels, labels, stats, centroids) = output #Tuples \n",
        "  for j in range(0,numLabels):\n",
        "    # if j==0:\n",
        "    #   text = 'Examining componeents{}/{}(background)'.format(j,numLabels)\n",
        "    # else:\n",
        "    #   text = 'Objects found. Examining {}/{} connected components inside this image'.format(j,numLabels)\n",
        "\n",
        "    # print('Image info : {}'.format(text))\n",
        "\n",
        "    x = stats[j, cv2.CC_STAT_LEFT]\n",
        "    y = stats[j, cv2.CC_STAT_TOP]\n",
        "    w = stats[j, cv2.CC_STAT_WIDTH]\n",
        "    h = stats[j, cv2.CC_STAT_HEIGHT]\n",
        "    area = stats[j, cv2.CC_STAT_AREA]\n",
        "    (cX, cY) = centroids[j]\n",
        "\n",
        "    Width_keep = w>5 and w<15\n",
        "    Height_keep = h>5 and h<15\n",
        "    Area_keep = area>40 and area<350\n",
        "\n",
        "    # Height22,width10,and area is168\n",
        "    #Height9,width9,and area is63\n",
        "\n",
        "    output = original_image.copy()\n",
        "\n",
        "\n",
        "    if all((Width_keep,Height_keep,Area_keep)):\n",
        "      print('Connected Components found and the pic number is {} and the centroid is{}'.format(i,[centroids[j]]))\n",
        "      cv2.rectangle(output, (x, y), (x + w, y + h), (255, 255, 0),2)\n",
        "      cv2.circle(output, (int(cX), int(cY)),1, (0, 0, 255), -1)\n",
        "      #cv2_imshow(output)\n",
        "      final_images.append(output)\n",
        "      final_centroids.append(centroids[j])\n",
        "\n",
        "    # output = original_image.copy()\n",
        "    # cv2.rectangle(output, (x, y), (x + w, y + h), (255, 255, 0),1)\n",
        "    # cv2.circle(output, (int(cX), int(cY)),1, (0, 0, 255), -1)\n",
        "\n",
        "    # componentMask = (labels == i).astype(\"uint8\")*255 #Converting every labels that the masks detected into white colour\n",
        "    # cv2_imshow(output)"
      ]
    },
    {
      "cell_type": "code",
      "execution_count": null,
      "metadata": {
        "colab": {
          "base_uri": "https://localhost:8080/"
        },
        "id": "1DiJSVfISoCG",
        "outputId": "a7c49bb5-5d55-4f0d-ba60-e82c7e1ec924"
      },
      "outputs": [
        {
          "output_type": "stream",
          "name": "stdout",
          "text": [
            "Connected Components found and the pic number is 33 and the centroid is[array([149.58333333, 118.02777778])]\n"
          ]
        }
      ],
      "source": [
        "#For single frame 33\n",
        "for i in range(33,34):\n",
        "  original_image = cv2.imread('/content/gdrive/My Drive/pingpong/photos/stennis{}.jpg'.format(i))\n",
        "  output = cv2.connectedComponentsWithStats(image_preprocessing('/content/gdrive/My Drive/pingpong/photos/stennis{}.jpg'.format(i),(0,0,238),(179,148,255)), cv2.CV_32S)\n",
        "  (numLabels, labels, stats, centroids) = output #Tuples \n",
        "\n",
        "  for j in range(0,numLabels):\n",
        "    # if j==0:\n",
        "    #   text = 'Examining componeents{}/{}(background)'.format(j,numLabels)\n",
        "    # else:\n",
        "    #   text = 'Objects found. Examining {}/{} connected components inside this image'.format(j,numLabels)\n",
        "\n",
        "    # print('Image info : {}'.format(text))\n",
        "\n",
        "    x = stats[j, cv2.CC_STAT_LEFT]\n",
        "    y = stats[j, cv2.CC_STAT_TOP]\n",
        "    w = stats[j, cv2.CC_STAT_WIDTH]\n",
        "    h = stats[j, cv2.CC_STAT_HEIGHT]\n",
        "    area = stats[j, cv2.CC_STAT_AREA]\n",
        "    (cX, cY) = centroids[j]\n",
        "\n",
        "    Width_keep = w>5 and w<7\n",
        "    Height_keep = h>5 and h<9\n",
        "    Area_keep = area>35 and area<37\n",
        "\n",
        "    # Height22,width10,and area is168\n",
        "    #Height9,width9,and area is63\n",
        "\n",
        "    output = original_image.copy()\n",
        "\n",
        "    if all((Width_keep,Height_keep,Area_keep)):\n",
        "      print('Connected Components found and the pic number is {} and the centroid is{}'.format(i,[centroids[j]]))\n",
        "      cv2.rectangle(output, (x, y), (x + w, y + h), (255, 255, 0),2)\n",
        "      cv2.circle(output, (int(cX), int(cY)),1, (0, 0, 255), -1)\n",
        "      #cv2_imshow(output)\n",
        "      final_images.append(output)\n",
        "      final_centroids.append(centroids[j])\n",
        "    # output = original_image.copy()\n",
        "    # cv2.rectangle(output, (x, y), (x + w, y + h), (255, 255, 0),1)\n",
        "    # cv2.circle(output, (int(cX), int(cY)),1, (0, 0, 255), -1)\n",
        "\n",
        "    # componentMask = (labels == i).astype(\"uint8\")*255 #Converting every labels that the masks detected into white colour\n",
        "    # cv2_imshow(output)"
      ]
    },
    {
      "cell_type": "code",
      "execution_count": null,
      "metadata": {
        "colab": {
          "base_uri": "https://localhost:8080/"
        },
        "id": "ZPDWM0CMSoEt",
        "outputId": "4e714c15-32ec-4838-d513-a5112e2a66ec"
      },
      "outputs": [
        {
          "output_type": "stream",
          "name": "stdout",
          "text": [
            "Connected Components found and the pic number is 34 and the centroid is[array([147.39393939, 131.66666667])]\n"
          ]
        }
      ],
      "source": [
        "#For single frame 34\n",
        "for i in range(34,35):\n",
        "  original_image = cv2.imread('/content/gdrive/My Drive/pingpong/photos/stennis{}.jpg'.format(i))\n",
        "  output = cv2.connectedComponentsWithStats(image_preprocessing('/content/gdrive/My Drive/pingpong/photos/stennis{}.jpg'.format(i),(0,0,227),(179,255,255)), cv2.CV_32S)\n",
        "  (numLabels, labels, stats, centroids) = output #Tuples \n",
        "\n",
        "  for j in range(0,numLabels):\n",
        "    # if j==0:\n",
        "    #   text = 'Examining componeents{}/{}(background)'.format(j,numLabels)\n",
        "    # else:\n",
        "    #   text = 'Objects found. Examining {}/{} connected components inside this image'.format(j,numLabels)\n",
        "\n",
        "    # print('Image info : {}'.format(text))\n",
        "\n",
        "    x = stats[j, cv2.CC_STAT_LEFT]\n",
        "    y = stats[j, cv2.CC_STAT_TOP]\n",
        "    w = stats[j, cv2.CC_STAT_WIDTH]\n",
        "    h = stats[j, cv2.CC_STAT_HEIGHT]\n",
        "    area = stats[j, cv2.CC_STAT_AREA]\n",
        "    (cX, cY) = centroids[j]\n",
        "\n",
        "    Height_keep = h>5 and h<9\n",
        "    Width_keep = w>5 and w<10\n",
        "    Area_keep = area>30 and area<37\n",
        "\n",
        "    # Height22,width10,and area is168\n",
        "    #Height9,width9,and area is63\n",
        "    #Height6,width9,and area is33\n",
        "\n",
        "    output = original_image.copy()\n",
        "\n",
        "    if all((Width_keep,Height_keep,Area_keep)):\n",
        "      print('Connected Components found and the pic number is {} and the centroid is{}'.format(i,[centroids[j]]))\n",
        "      cv2.rectangle(output, (x, y), (x + w, y + h), (255, 255, 0),2)\n",
        "      cv2.circle(output, (int(cX), int(cY)),1, (0, 0, 255), -1)\n",
        "      #cv2_imshow(output)\n",
        "      final_images.append(output)\n",
        "      final_centroids.append(centroids[j])\n",
        "\n",
        "    # output = original_image.copy()\n",
        "    # cv2.rectangle(output, (x, y), (x + w, y + h), (255, 255, 0),1)\n",
        "    # cv2.circle(output, (int(cX), int(cY)),1, (0, 0, 255), -1)\n",
        "\n",
        "    # componentMask = (labels == i).astype(\"uint8\")*255 #Converting every labels that the masks detected into white colour\n",
        "    # cv2_imshow(output)"
      ]
    },
    {
      "cell_type": "code",
      "execution_count": null,
      "metadata": {
        "colab": {
          "base_uri": "https://localhost:8080/"
        },
        "id": "O9u024HYSoHU",
        "outputId": "3145ce4a-0c1f-4e12-dfc5-b2fb42f47cef"
      },
      "outputs": [
        {
          "output_type": "stream",
          "name": "stdout",
          "text": [
            "Connected Components found and the pic number is 35 and the centroid is[array([155.69230769, 127.5591716 ])]\n",
            "Connected Components found and the pic number is 36 and the centroid is[array([158.50671141, 126.46979866])]\n",
            "Connected Components found and the pic number is 37 and the centroid is[array([161.07801418, 125.14539007])]\n",
            "Connected Components found and the pic number is 38 and the centroid is[array([163.2369338 , 123.68292683])]\n",
            "Connected Components found and the pic number is 39 and the centroid is[array([165.63851351, 121.48310811])]\n",
            "Connected Components found and the pic number is 40 and the centroid is[array([166.94809689, 118.79930796])]\n",
            "Connected Components found and the pic number is 41 and the centroid is[array([168.42160279, 114.63066202])]\n",
            "Connected Components found and the pic number is 42 and the centroid is[array([168.96308725, 109.56375839])]\n",
            "Connected Components found and the pic number is 43 and the centroid is[array([169.91694352, 102.88039867])]\n",
            "Connected Components found and the pic number is 44 and the centroid is[array([171.40202703,  95.24324324])]\n",
            "Connected Components found and the pic number is 45 and the centroid is[array([173.91525424,  88.08813559])]\n",
            "Connected Components found and the pic number is 46 and the centroid is[array([178.69565217,  83.03952569])]\n"
          ]
        }
      ],
      "source": [
        "#For single frame 35 to 47\n",
        "for i in range(35,47):\n",
        "  original_image = cv2.imread('/content/gdrive/My Drive/pingpong/photos/stennis{}.jpg'.format(i))\n",
        "  output = cv2.connectedComponentsWithStats(image_preprocessing('/content/gdrive/My Drive/pingpong/photos/stennis{}.jpg'.format(i),(0,0,182),(173,127,255)), cv2.CV_32S)\n",
        "  (numLabels, labels, stats, centroids) = output #Tuples \n",
        "\n",
        "  for j in range(0,numLabels):\n",
        "    # if j==0:\n",
        "    #   text = 'Examining componeents{}/{}(background)'.format(j,numLabels)\n",
        "    # else:\n",
        "    #   text = 'Objects found. Examining {}/{} connected components inside this image'.format(j,numLabels)\n",
        "\n",
        "    # print('Image info : {}'.format(text))\n",
        "\n",
        "    x = stats[j, cv2.CC_STAT_LEFT]\n",
        "    y = stats[j, cv2.CC_STAT_TOP]\n",
        "    w = stats[j, cv2.CC_STAT_WIDTH]\n",
        "    h = stats[j, cv2.CC_STAT_HEIGHT]\n",
        "    area = stats[j, cv2.CC_STAT_AREA]\n",
        "    (cX, cY) = centroids[j]\n",
        "\n",
        "    Height_keep = h>5 and h<25\n",
        "    Width_keep = w>30 and w<50\n",
        "    Area_keep = area>200 and area<350\n",
        "\n",
        "    # Height22,width10,and area is168\n",
        "    #Height9,width9,and area is63\n",
        "    #Height6,width9,and area is33\n",
        "    #Height8,width19,and area is77\n",
        "    #Height16,width39,and area is338\n",
        "\n",
        "    output = original_image.copy()\n",
        "\n",
        "\n",
        "    if all((Width_keep,Height_keep,Area_keep)):\n",
        "      print('Connected Components found and the pic number is {} and the centroid is{}'.format(i,[centroids[j]]))\n",
        "      cv2.rectangle(output, (x, y), (x + w, y + h), (255, 255, 0),2)\n",
        "      cv2.circle(output, (int(cX), int(cY)),1, (0, 0, 255), -1)\n",
        "      #cv2_imshow(output)\n",
        "      final_images.append(output)\n",
        "      final_centroids.append(centroids[j])\n",
        "    # output = original_image.copy()\n",
        "    # cv2.rectangle(output, (x, y), (x + w, y + h), (255, 255, 0),1)\n",
        "    # cv2.circle(output, (int(cX), int(cY)),1, (0, 0, 255), -1)\n",
        "\n",
        "    # componentMask = (labels == i).astype(\"uint8\")*255 #Converting every labels that the masks detected into white colour\n",
        "    # cv2_imshow(output)"
      ]
    },
    {
      "cell_type": "code",
      "execution_count": null,
      "metadata": {
        "colab": {
          "base_uri": "https://localhost:8080/"
        },
        "id": "hXLy9mTsSoJr",
        "outputId": "4a750eda-3d5c-4912-d598-4d41f438f9b3"
      },
      "outputs": [
        {
          "output_type": "stream",
          "name": "stdout",
          "text": [
            "Connected Components found and the pic number is 47 and the centroid is[array([170.12121212,  81.36363636])]\n"
          ]
        }
      ],
      "source": [
        "#For single frame 47 to 55\n",
        "for i in range(47,48):\n",
        "  original_image = cv2.imread('/content/gdrive/My Drive/pingpong/photos/stennis{}.jpg'.format(i))\n",
        "  output = cv2.connectedComponentsWithStats(image_preprocessing('/content/gdrive/My Drive/pingpong/photos/stennis{}.jpg'.format(i),(0,0,205),(179,255,255)), cv2.CV_32S)\n",
        "  (numLabels, labels, stats, centroids) = output #Tuples \n",
        "\n",
        "\n",
        "  for j in range(0,numLabels):\n",
        "    # if j==0:\n",
        "    #   text = 'Examining componeents{}/{}(background)'.format(j,numLabels)\n",
        "    # else:\n",
        "    #   text = 'Objects found. Examining {}/{} connected components inside this image'.format(j,numLabels)\n",
        "\n",
        "    # print('Image info : {}'.format(text))\n",
        "\n",
        "    x = stats[j, cv2.CC_STAT_LEFT]\n",
        "    y = stats[j, cv2.CC_STAT_TOP]\n",
        "    w = stats[j, cv2.CC_STAT_WIDTH]\n",
        "    h = stats[j, cv2.CC_STAT_HEIGHT]\n",
        "    area = stats[j, cv2.CC_STAT_AREA]\n",
        "    (cX, cY) = centroids[j]\n",
        "\n",
        "    Height_keep = h>5 and h<25\n",
        "    Width_keep = w>5 and w<50\n",
        "    Area_keep = area>30 and area<40\n",
        "\n",
        "    # Height22,width10,and area is168\n",
        "    #Height9,width9,and area is63\n",
        "    #Height6,width9,and area is33\n",
        "    #Height8,width19,and area is77\n",
        "    #Height16,width39,and area is338\n",
        "\n",
        "    output = original_image.copy()\n",
        "\n",
        "    if all((Width_keep,Height_keep,Area_keep)):\n",
        "      print('Connected Components found and the pic number is {} and the centroid is{}'.format(i,[centroids[j]]))\n",
        "      cv2.rectangle(output, (x, y), (x + w, y + h), (255, 255, 0),2)\n",
        "      cv2.circle(output, (int(cX), int(cY)),1, (0, 0, 255), -1)\n",
        "      #cv2_imshow(output)\n",
        "      final_images.append(output)\n",
        "      final_centroids.append(centroids[j])\n",
        "\n",
        "    # output = original_image.copy()\n",
        "    # cv2.rectangle(output, (x, y), (x + w, y + h), (255, 255, 0),1)\n",
        "    # cv2.circle(output, (int(cX), int(cY)),1, (0, 0, 255), -1)\n",
        "\n",
        "    # componentMask = (labels == i).astype(\"uint8\")*255 #Converting every labels that the masks detected into white colour\n",
        "    # cv2_imshow(output)"
      ]
    },
    {
      "cell_type": "code",
      "execution_count": null,
      "metadata": {
        "colab": {
          "base_uri": "https://localhost:8080/"
        },
        "id": "lFdKVrVVSoMR",
        "outputId": "44cf7a1b-86ef-40ba-acf1-635c7ca26a5e"
      },
      "outputs": [
        {
          "output_type": "stream",
          "name": "stdout",
          "text": [
            "Connected Components found and the pic number is 48 and the centroid is[array([172.03030303,  77.81818182])]\n",
            "Connected Components found and the pic number is 49 and the centroid is[array([174.25806452,  77.25806452])]\n",
            "Connected Components found and the pic number is 50 and the centroid is[array([176.13333333,  78.46666667])]\n",
            "Connected Components found and the pic number is 51 and the centroid is[array([178.12903226,  81.4516129 ])]\n",
            "Connected Components found and the pic number is 52 and the centroid is[array([179.63333333,  85.36666667])]\n",
            "Connected Components found and the pic number is 53 and the centroid is[array([181.38709677,  91.38709677])]\n",
            "Connected Components found and the pic number is 54 and the centroid is[array([182.5862069 ,  97.86206897])]\n"
          ]
        }
      ],
      "source": [
        "#For single frame 48 to 54\n",
        "for i in range(48,60):\n",
        "  original_image = cv2.imread('/content/gdrive/My Drive/pingpong/photos/stennis{}.jpg'.format(i))\n",
        "  output = cv2.connectedComponentsWithStats(image_preprocessing('/content/gdrive/My Drive/pingpong/photos/stennis{}.jpg'.format(i),(0,9,178),(42,60,253)), cv2.CV_32S)\n",
        "  (numLabels, labels, stats, centroids) = output #Tuples \n",
        "\n",
        "  for j in range(0,numLabels):\n",
        "    # if j==0:\n",
        "    #   text = 'Examining componeents{}/{}(background)'.format(j,numLabels)\n",
        "    # else:\n",
        "    #   text = 'Objects found. Examining {}/{} connected components inside this image'.format(j,numLabels)\n",
        "\n",
        "    # print('Image info : {}'.format(text))\n",
        "\n",
        "    x = stats[j, cv2.CC_STAT_LEFT]\n",
        "    y = stats[j, cv2.CC_STAT_TOP]\n",
        "    w = stats[j, cv2.CC_STAT_WIDTH]\n",
        "    h = stats[j, cv2.CC_STAT_HEIGHT]\n",
        "    area = stats[j, cv2.CC_STAT_AREA]\n",
        "    (cX, cY) = centroids[j]\n",
        "\n",
        "    Height_keep = h>4 and h<10\n",
        "    Width_keep = w>4 and w<10\n",
        "    Area_keep = area>28 and area<35\n",
        "\n",
        "    # Height22,width10,and area is168\n",
        "    #Height9,width9,and area is63\n",
        "    #Height6,width9,and area is33\n",
        "    #Height8,width19,and area is77\n",
        "    #Height16,width39,and area is338\n",
        "    #Height6,width7,and area is31\n",
        "\n",
        "    output = original_image.copy()\n",
        "\n",
        "    if all((Width_keep,Height_keep,Area_keep)):\n",
        "      print('Connected Components found and the pic number is {} and the centroid is{}'.format(i,[centroids[j]]))\n",
        "      cv2.rectangle(output, (x, y), (x + w, y + h), (255, 255, 0),2)\n",
        "      cv2.circle(output, (int(cX), int(cY)),1, (0, 0, 255), -1)\n",
        "      #cv2_imshow(output)\n",
        "      final_images.append(output)\n",
        "      final_centroids.append(centroids[j])\n",
        "      \n",
        "    # output = original_image.copy()\n",
        "    # cv2.rectangle(output, (x, y), (x + w, y + h), (255, 255, 0),1)\n",
        "    # cv2.circle(output, (int(cX), int(cY)),1, (0, 0, 255), -1)\n",
        "\n",
        "    # componentMask = (labels == i).astype(\"uint8\")*255 #Converting every labels that the masks detected into white colour\n",
        "    # cv2_imshow(output)"
      ]
    },
    {
      "cell_type": "code",
      "execution_count": null,
      "metadata": {
        "colab": {
          "base_uri": "https://localhost:8080/"
        },
        "id": "vC4dDJQHSoRy",
        "outputId": "f6737cf6-e9cc-4eab-81c9-939978b5b3b5"
      },
      "outputs": [
        {
          "output_type": "stream",
          "name": "stdout",
          "text": [
            "Connected Components found and the pic number is 55 and the centroid is[array([185.13953488, 107.34883721])]\n"
          ]
        }
      ],
      "source": [
        "#For single frame 55 to 56\n",
        "for i in range(55,56):\n",
        "  original_image = cv2.imread('/content/gdrive/My Drive/pingpong/photos/stennis{}.jpg'.format(i))\n",
        "  output = cv2.connectedComponentsWithStats(image_preprocessing('/content/gdrive/My Drive/pingpong/photos/stennis{}.jpg'.format(i),(0,0,0),(179,44,255)), cv2.CV_32S)\n",
        "  (numLabels, labels, stats, centroids) = output #Tuples \n",
        "\n",
        "  for j in range(0,numLabels):\n",
        "    # if j==0:\n",
        "    #   text = 'Examining componeents{}/{}(background)'.format(j,numLabels)\n",
        "    # else:\n",
        "    #   text = 'Objects found. Examining {}/{} connected components inside this image'.format(j,numLabels)\n",
        "\n",
        "    # print('Image info : {}'.format(text))\n",
        "\n",
        "    x = stats[j, cv2.CC_STAT_LEFT]\n",
        "    y = stats[j, cv2.CC_STAT_TOP]\n",
        "    w = stats[j, cv2.CC_STAT_WIDTH]\n",
        "    h = stats[j, cv2.CC_STAT_HEIGHT]\n",
        "    area = stats[j, cv2.CC_STAT_AREA]\n",
        "    (cX, cY) = centroids[j]\n",
        "\n",
        "    Height_keep = h>4 and h<9\n",
        "    Width_keep = w>4 and w<12\n",
        "    Area_keep = area>28 and area<50\n",
        "\n",
        "    output = original_image.copy()\n",
        "\n",
        "    if all((Width_keep,Height_keep,Area_keep)):\n",
        "      print('Connected Components found and the pic number is {} and the centroid is{}'.format(i,[centroids[j]]))\n",
        "      cv2.rectangle(output, (x, y), (x + w, y + h), (255, 255, 0),2)\n",
        "      cv2.circle(output, (int(cX), int(cY)),1, (0, 0, 255), -1)\n",
        "      #cv2_imshow(output)\n",
        "      final_images.append(output)\n",
        "      final_centroids.append(centroids[j])\n",
        "\n",
        "    # output = original_image.copy()\n",
        "    # cv2.rectangle(output, (x, y), (x + w, y + h), (255, 255, 0),1)\n",
        "    # cv2.circle(output, (int(cX), int(cY)),1, (0, 0, 255), -1)\n",
        "\n",
        "    # componentMask = (labels == i).astype(\"uint8\")*255 #Converting every labels that the masks detected into white colour\n",
        "    # cv2_imshow(output)"
      ]
    },
    {
      "cell_type": "code",
      "execution_count": null,
      "metadata": {
        "colab": {
          "base_uri": "https://localhost:8080/"
        },
        "id": "sbwH1uawQq3i",
        "outputId": "1f9edcd2-77b0-4394-c96e-2176ccfe9812"
      },
      "outputs": [
        {
          "output_type": "stream",
          "name": "stdout",
          "text": [
            "Connected Components found and the pic number is 56 and the centroid is[array([175.9047619 , 115.23809524])]\n"
          ]
        }
      ],
      "source": [
        "#For single frame 56 to 60\n",
        "for i in range(56,60):\n",
        "  original_image = cv2.imread('/content/gdrive/My Drive/pingpong/photos/stennis{}.jpg'.format(i))\n",
        "  output = cv2.connectedComponentsWithStats(image_preprocessing('/content/gdrive/My Drive/pingpong/photos/stennis{}.jpg'.format(i),(17,0,0),(179,27,255)), cv2.CV_32S)\n",
        "  (numLabels, labels, stats, centroids) = output #Tuples \n",
        "\n",
        "  for j in range(0,numLabels):\n",
        "    # if j==0:\n",
        "    #   text = 'Examining componeents{}/{}(background)'.format(j,numLabels)\n",
        "    # else:\n",
        "    #   text = 'Objects found. Examining {}/{} connected components inside this image'.format(j,numLabels)\n",
        "\n",
        "    # print('Image info : {}'.format(text))\n",
        "\n",
        "    x = stats[j, cv2.CC_STAT_LEFT]\n",
        "    y = stats[j, cv2.CC_STAT_TOP]\n",
        "    w = stats[j, cv2.CC_STAT_WIDTH]\n",
        "    h = stats[j, cv2.CC_STAT_HEIGHT]\n",
        "    area = stats[j, cv2.CC_STAT_AREA]\n",
        "    (cX, cY) = centroids[j]\n",
        "\n",
        "    Height_keep = h>4 and h<10\n",
        "    Width_keep = w>4 and w<10\n",
        "    Area_keep = area>40 and area<45\n",
        "\n",
        "    output = original_image.copy()\n",
        "\n",
        "    if all((Width_keep,Height_keep,Area_keep)):\n",
        "      print('Connected Components found and the pic number is {} and the centroid is{}'.format(i,[centroids[j]]))\n",
        "      cv2.rectangle(output, (x, y), (x + w, y + h), (255, 255, 0),2)\n",
        "      cv2.circle(output, (int(cX), int(cY)),1, (0, 0, 255), -1)\n",
        "      #cv2_imshow(output)\n",
        "      final_images.append(output)\n",
        "      final_centroids.append(centroids[j])\n",
        "\n",
        "    # output = original_image.copy()\n",
        "    # cv2.rectangle(output, (x, y), (x + w, y + h), (255, 255, 0),1)\n",
        "    # cv2.circle(output, (int(cX), int(cY)),1, (0, 0, 255), -1)\n",
        "\n",
        "    # componentMask = (labels == i).astype(\"uint8\")*255 #Converting every labels that the masks detected into white colour\n",
        "    # cv2_imshow(output)"
      ]
    },
    {
      "cell_type": "code",
      "execution_count": null,
      "metadata": {
        "colab": {
          "base_uri": "https://localhost:8080/"
        },
        "id": "iuF9-gzbQq54",
        "outputId": "d5f7e3b6-ef85-4ec6-a40e-d596c87ec5fa"
      },
      "outputs": [
        {
          "output_type": "stream",
          "name": "stdout",
          "text": [
            "Connected Components found and the pic number is 57 and the centroid is[array([156.90322581, 128.32258065])]\n"
          ]
        }
      ],
      "source": [
        "#For single frame 57 \n",
        "for i in range(57,60):\n",
        "  original_image = cv2.imread('/content/gdrive/My Drive/pingpong/photos/stennis{}.jpg'.format(i))\n",
        "  output = cv2.connectedComponentsWithStats(image_preprocessing('/content/gdrive/My Drive/pingpong/photos/stennis{}.jpg'.format(i),(0,0,200),(31,46,240)), cv2.CV_32S)\n",
        "  (numLabels, labels, stats, centroids) = output #Tuples \n",
        "\n",
        "\n",
        "  for j in range(0,numLabels):\n",
        "    # if j==0:\n",
        "    #   text = 'Examining componeents{}/{}(background)'.format(j,numLabels)\n",
        "    # else:\n",
        "    #   text = 'Objects found. Examining {}/{} connected components inside this image'.format(j,numLabels)\n",
        "\n",
        "    # print('Image info : {}'.format(text))\n",
        "\n",
        "    x = stats[j, cv2.CC_STAT_LEFT]\n",
        "    y = stats[j, cv2.CC_STAT_TOP]\n",
        "    w = stats[j, cv2.CC_STAT_WIDTH]\n",
        "    h = stats[j, cv2.CC_STAT_HEIGHT]\n",
        "    area = stats[j, cv2.CC_STAT_AREA]\n",
        "    (cX, cY) = centroids[j]\n",
        "\n",
        "    Height_keep = h>4 and h<10\n",
        "    Width_keep = w>4 and w<11\n",
        "    Area_keep = area>30 and area<40\n",
        "\n",
        "    output = original_image.copy()\n",
        "\n",
        "    if all((Width_keep,Height_keep,Area_keep)):\n",
        "      print('Connected Components found and the pic number is {} and the centroid is{}'.format(i,[centroids[j]]))\n",
        "      cv2.rectangle(output, (x, y), (x + w, y + h), (255, 255, 0),2)\n",
        "      cv2.circle(output, (int(cX), int(cY)),1, (0, 0, 255), -1)\n",
        "      #cv2_imshow(output)\n",
        "      final_images.append(output)\n",
        "      final_centroids.append(centroids[j])\n",
        "\n",
        "    # output = original_image.copy()\n",
        "    # cv2.rectangle(output, (x, y), (x + w, y + h), (255, 255, 0),1)\n",
        "    # cv2.circle(output, (int(cX), int(cY)),1, (0, 0, 255), -1)\n",
        "\n",
        "    # componentMask = (labels == i).astype(\"uint8\")*255 #Converting every labels that the masks detected into white colour\n",
        "    # cv2_imshow(output)"
      ]
    },
    {
      "cell_type": "code",
      "execution_count": null,
      "metadata": {
        "colab": {
          "base_uri": "https://localhost:8080/"
        },
        "id": "XwzN0zxPBGUZ",
        "outputId": "d40c5776-9248-4b2a-aaa0-5abb670983cd"
      },
      "outputs": [
        {
          "output_type": "stream",
          "name": "stdout",
          "text": [
            "Connected Components found and the pic number is 58 and the centroid is[array([136.08571429, 143.37142857])]\n"
          ]
        }
      ],
      "source": [
        "#For single frame 578 \n",
        "for i in range(58,59):\n",
        "  original_image = cv2.imread('/content/gdrive/My Drive/pingpong/photos/stennis{}.jpg'.format(i))\n",
        "  output = cv2.connectedComponentsWithStats(image_preprocessing('/content/gdrive/My Drive/pingpong/photos/stennis{}.jpg'.format(i),(22,0,187),(179,255,255)), cv2.CV_32S)\n",
        "  (numLabels, labels, stats, centroids) = output #Tuples \n",
        "\n",
        "\n",
        "  for j in range(0,numLabels):\n",
        "    # if j==0:\n",
        "    #   text = 'Examining componeents{}/{}(background)'.format(j,numLabels)\n",
        "    # else:\n",
        "    #   text = 'Objects found. Examining {}/{} connected components inside this image'.format(j,numLabels)\n",
        "\n",
        "    # print('Image info : {}'.format(text))\n",
        "\n",
        "    x = stats[j, cv2.CC_STAT_LEFT]\n",
        "    y = stats[j, cv2.CC_STAT_TOP]\n",
        "    w = stats[j, cv2.CC_STAT_WIDTH]\n",
        "    h = stats[j, cv2.CC_STAT_HEIGHT]\n",
        "    area = stats[j, cv2.CC_STAT_AREA]\n",
        "    (cX, cY) = centroids[j]\n",
        "\n",
        "    Height_keep = h>4 and h<10\n",
        "    Width_keep = w>4 and w<11\n",
        "    Area_keep = area>32 and area<36\n",
        "\n",
        "    output = original_image.copy()\n",
        "\n",
        "    if all((Width_keep,Height_keep,Area_keep)):\n",
        "      print('Connected Components found and the pic number is {} and the centroid is{}'.format(i,[centroids[j]]))\n",
        "      cv2.rectangle(output, (x, y), (x + w, y + h), (255, 255, 0),2)\n",
        "      cv2.circle(output, (int(cX), int(cY)),1, (0, 0, 255), -1)\n",
        "      #cv2_imshow(output)\n",
        "      final_images.append(output)\n",
        "      final_centroids.append(centroids[j])\n",
        "\n",
        "    # output = original_image.copy()\n",
        "    # cv2.rectangle(output, (x, y), (x + w, y + h), (255, 255, 0),1)\n",
        "    # cv2.circle(output, (int(cX), int(cY)),1, (0, 0, 255), -1)\n",
        "\n",
        "    # componentMask = (labels == i).astype(\"uint8\")*255 #Converting every labels that the masks detected into white colour\n",
        "    # cv2_imshow(output)"
      ]
    },
    {
      "cell_type": "code",
      "execution_count": null,
      "metadata": {
        "colab": {
          "base_uri": "https://localhost:8080/"
        },
        "id": "WjTsDcFyIhIV",
        "outputId": "f9095bc8-bbbe-4f07-92bc-69a06248afd4"
      },
      "outputs": [
        {
          "output_type": "stream",
          "name": "stdout",
          "text": [
            "Connected Components found and the pic number is 59 and the centroid is[array([116.65454545, 158.52727273])]\n"
          ]
        }
      ],
      "source": [
        "#For single frame 59 \n",
        "for i in range(59,60):\n",
        "  original_image = cv2.imread('/content/gdrive/My Drive/pingpong/photos/stennis{}.jpg'.format(i))\n",
        "  output = cv2.connectedComponentsWithStats(image_preprocessing('/content/gdrive/My Drive/pingpong/photos/stennis{}.jpg'.format(i),(26,14,174),(74,47,235)), cv2.CV_32S)\n",
        "  (numLabels, labels, stats, centroids) = output #Tuples \n",
        "\n",
        "\n",
        "  for j in range(0,numLabels):\n",
        "    # if j==0:\n",
        "    #   text = 'Examining componeents{}/{}(background)'.format(j,numLabels)\n",
        "    # else:\n",
        "    #   text = 'Objects found. Examining {}/{} connected components inside this image'.format(j,numLabels)\n",
        "\n",
        "    # print('Image info : {}'.format(text))\n",
        "\n",
        "    x = stats[j, cv2.CC_STAT_LEFT]\n",
        "    y = stats[j, cv2.CC_STAT_TOP]\n",
        "    w = stats[j, cv2.CC_STAT_WIDTH]\n",
        "    h = stats[j, cv2.CC_STAT_HEIGHT]\n",
        "    area = stats[j, cv2.CC_STAT_AREA]\n",
        "    (cX, cY) = centroids[j]\n",
        "\n",
        "    Height_keep = h>4 and h<10\n",
        "    Width_keep = w>4 and w<13\n",
        "    Area_keep = area>50 and area<56\n",
        "\n",
        "\n",
        "    output = original_image.copy()\n",
        "\n",
        "    if all((Width_keep,Height_keep,Area_keep)):\n",
        "      print('Connected Components found and the pic number is {} and the centroid is{}'.format(i,[centroids[j]]))\n",
        "      cv2.rectangle(output, (x, y), (x + w, y + h), (255, 255, 0),2)\n",
        "      cv2.circle(output, (int(cX), int(cY)),1, (0, 0, 255), -1)\n",
        "      final_images.append(output)\n",
        "      final_centroids.append(centroids[j])\n",
        "\n",
        "\n",
        "    # output = original_image.copy()\n",
        "    # cv2.rectangle(output, (x, y), (x + w, y + h), (255, 255, 0),1)\n",
        "    # cv2.circle(output, (int(cX), int(cY)),1, (0, 0, 255), -1)\n",
        "\n",
        "    # componentMask = (labels == i).astype(\"uint8\")*255 #Converting every labels that the masks detected into white colour\n",
        "    # cv2_imshow(output)"
      ]
    },
    {
      "cell_type": "code",
      "execution_count": null,
      "metadata": {
        "colab": {
          "base_uri": "https://localhost:8080/"
        },
        "id": "dmS4eKT2hXcK",
        "outputId": "6b098d21-d4ba-4164-e70a-9e1891856422"
      },
      "outputs": [
        {
          "output_type": "stream",
          "name": "stdout",
          "text": [
            "Connected Components found and the pic number is 60 and the centroid is[array([ 99.39583333, 156.52083333])]\n"
          ]
        }
      ],
      "source": [
        "#For single frame 60 \n",
        "for i in range(60,61):\n",
        "  original_image = cv2.imread('/content/gdrive/My Drive/pingpong/photos/stennis{}.jpg'.format(i))\n",
        "  output = cv2.connectedComponentsWithStats(image_preprocessing('/content/gdrive/My Drive/pingpong/photos/stennis{}.jpg'.format(i),(36,6,156),(80,20,255)), cv2.CV_32S)\n",
        "  (numLabels, labels, stats, centroids) = output #Tuples \n",
        "\n",
        "\n",
        "  for j in range(0,numLabels):\n",
        "    # if j==0:\n",
        "    #   text = 'Examining componeents{}/{}(background)'.format(j,numLabels)\n",
        "    # else:\n",
        "    #   text = 'Objects found. Examining {}/{} connected components inside this image'.format(j,numLabels)\n",
        "\n",
        "    # print('Image info : {}'.format(text))\n",
        "\n",
        "    x = stats[j, cv2.CC_STAT_LEFT]\n",
        "    y = stats[j, cv2.CC_STAT_TOP]\n",
        "    w = stats[j, cv2.CC_STAT_WIDTH]\n",
        "    h = stats[j, cv2.CC_STAT_HEIGHT]\n",
        "    area = stats[j, cv2.CC_STAT_AREA]\n",
        "    (cX, cY) = centroids[j]\n",
        "\n",
        "    Height_keep = h>4 and h<11\n",
        "    Width_keep = w>4 and w<13\n",
        "    Area_keep = area>45 and area<50\n",
        "\n",
        "\n",
        "    output = original_image.copy()\n",
        "\n",
        "    if all((Width_keep,Height_keep,Area_keep)):\n",
        "      print('Connected Components found and the pic number is {} and the centroid is{}'.format(i,[centroids[j]]))\n",
        "      cv2.rectangle(output, (x, y), (x + w, y + h), (255, 255, 0),2)\n",
        "      cv2.circle(output, (int(cX), int(cY)),1, (0, 0, 255), -1)\n",
        "      #cv2_imshow(output)\n",
        "      final_images.append(output)\n",
        "      final_centroids.append(centroids[j])"
      ]
    },
    {
      "cell_type": "code",
      "execution_count": null,
      "metadata": {
        "colab": {
          "base_uri": "https://localhost:8080/"
        },
        "id": "dO2K-zMPPQgF",
        "outputId": "00debe77-86be-4152-e41e-6dc3f516cc20"
      },
      "outputs": [
        {
          "output_type": "stream",
          "name": "stdout",
          "text": [
            "Connected Components found and the pic number is 61 and the centroid is[array([ 81.81395349, 152.90697674])]\n"
          ]
        }
      ],
      "source": [
        "#For last frame 61\n",
        "for i in range(61,62):\n",
        "  original_image = cv2.imread('/content/gdrive/My Drive/pingpong/photos/stennis{}.jpg'.format(i))\n",
        "  output = cv2.connectedComponentsWithStats(image_preprocessing('/content/gdrive/My Drive/pingpong/photos/stennis{}.jpg'.format(i),(20,2,179),(75,57,251)), cv2.CV_32S)\n",
        "  (numLabels, labels, stats, centroids) = output #Tuples \n",
        "\n",
        "\n",
        "  for j in range(0,numLabels):\n",
        "    # if j==0:\n",
        "    #   text = 'Examining componeents{}/{}(background)'.format(j,numLabels)\n",
        "    # else:\n",
        "    #   text = 'Objects found. Examining {}/{} connected components inside this image'.format(j,numLabels)\n",
        "\n",
        "    # print('Image info : {}'.format(text))\n",
        "\n",
        "    x = stats[j, cv2.CC_STAT_LEFT]\n",
        "    y = stats[j, cv2.CC_STAT_TOP]\n",
        "    w = stats[j, cv2.CC_STAT_WIDTH]\n",
        "    h = stats[j, cv2.CC_STAT_HEIGHT]\n",
        "    area = stats[j, cv2.CC_STAT_AREA]\n",
        "    (cX, cY) = centroids[j]\n",
        "\n",
        "    Height_keep = h>6 and h<8\n",
        "    Width_keep = w>9 and w<11\n",
        "    Area_keep = area>42 and area<45\n",
        "\n",
        "    output = original_image.copy()\n",
        "\n",
        "    if all((Width_keep,Height_keep,Area_keep)):\n",
        "      print('Connected Components found and the pic number is {} and the centroid is{}'.format(i,[centroids[j]]))\n",
        "      cv2.rectangle(output, (x, y), (x + w, y + h), (255, 255, 0),2)\n",
        "      cv2.circle(output, (int(cX), int(cY)),1, (0, 0, 255), -1)\n",
        "      #cv2_imshow(output)\n",
        "      final_images.append(output)\n",
        "      final_centroids.append(centroids[j])"
      ]
    },
    {
      "cell_type": "code",
      "execution_count": null,
      "metadata": {
        "id": "pq2otoEF8m5k"
      },
      "outputs": [],
      "source": [
        "#To import the final_images(all the pixel array of an image into a file)\n",
        "import pickle\n",
        "with open(\"final_images\", \"wb\") as fp:   #Pickling\n",
        "  pickle.dump(final_images, fp)"
      ]
    },
    {
      "cell_type": "code",
      "source": [
        "with open(\"final_centroids\", \"wb\") as fp:   #Pickling\n",
        "  pickle.dump(final_centroids, fp)"
      ],
      "metadata": {
        "id": "4_6eTr_0haaN"
      },
      "execution_count": null,
      "outputs": []
    },
    {
      "cell_type": "code",
      "source": [
        "vel_per_frame = [] #Extracting velocity per frame in every frame\n",
        "for i in range(0,len(final_centroids)):\n",
        "  for j in range(0,1):\n",
        "    if i==0:\n",
        "      vel_per_frame.append(0.0)\n",
        "    else:\n",
        "      first_array = [final_centroids[j][j],final_centroids[j][j+1]]\n",
        "      second_array = [final_centroids[j+1][j],final_centroids[j+1][j+1]]\n",
        "      distance_pixel = math.dist(int(first_array),int(second_array))\n",
        "      vel_per_frame.append(math.dist(first_array,second_array))\n",
        "      final_centroids.remove(final_centroids[0])\n",
        "      \n",
        "\n",
        "        #vel_per_frame.append((final_centroids[i][j] - final_centroids[i][j+1])+(final_centroids[i+1][j] - final_centroids[j+1][j+1]))\n"
      ],
      "metadata": {
        "colab": {
          "base_uri": "https://localhost:8080/",
          "height": 240
        },
        "id": "-H8Aa41SM2No",
        "outputId": "530fbc0c-a571-49c3-8bed-8ab4396c55fb"
      },
      "execution_count": null,
      "outputs": [
        {
          "output_type": "error",
          "ename": "AttributeError",
          "evalue": "ignored",
          "traceback": [
            "\u001b[0;31m---------------------------------------------------------------------------\u001b[0m",
            "\u001b[0;31mAttributeError\u001b[0m                            Traceback (most recent call last)",
            "\u001b[0;32m<ipython-input-53-bfacce5f93ee>\u001b[0m in \u001b[0;36m<module>\u001b[0;34m\u001b[0m\n\u001b[1;32m      7\u001b[0m       \u001b[0mfirst_array\u001b[0m \u001b[0;34m=\u001b[0m \u001b[0;34m[\u001b[0m\u001b[0mfinal_centroids\u001b[0m\u001b[0;34m[\u001b[0m\u001b[0mj\u001b[0m\u001b[0;34m]\u001b[0m\u001b[0;34m[\u001b[0m\u001b[0mj\u001b[0m\u001b[0;34m]\u001b[0m\u001b[0;34m,\u001b[0m\u001b[0mfinal_centroids\u001b[0m\u001b[0;34m[\u001b[0m\u001b[0mj\u001b[0m\u001b[0;34m]\u001b[0m\u001b[0;34m[\u001b[0m\u001b[0mj\u001b[0m\u001b[0;34m+\u001b[0m\u001b[0;36m1\u001b[0m\u001b[0;34m]\u001b[0m\u001b[0;34m]\u001b[0m\u001b[0;34m\u001b[0m\u001b[0;34m\u001b[0m\u001b[0m\n\u001b[1;32m      8\u001b[0m       \u001b[0msecond_array\u001b[0m \u001b[0;34m=\u001b[0m \u001b[0;34m[\u001b[0m\u001b[0mfinal_centroids\u001b[0m\u001b[0;34m[\u001b[0m\u001b[0mj\u001b[0m\u001b[0;34m+\u001b[0m\u001b[0;36m1\u001b[0m\u001b[0;34m]\u001b[0m\u001b[0;34m[\u001b[0m\u001b[0mj\u001b[0m\u001b[0;34m]\u001b[0m\u001b[0;34m,\u001b[0m\u001b[0mfinal_centroids\u001b[0m\u001b[0;34m[\u001b[0m\u001b[0mj\u001b[0m\u001b[0;34m+\u001b[0m\u001b[0;36m1\u001b[0m\u001b[0;34m]\u001b[0m\u001b[0;34m[\u001b[0m\u001b[0mj\u001b[0m\u001b[0;34m+\u001b[0m\u001b[0;36m1\u001b[0m\u001b[0;34m]\u001b[0m\u001b[0;34m]\u001b[0m\u001b[0;34m\u001b[0m\u001b[0;34m\u001b[0m\u001b[0m\n\u001b[0;32m----> 9\u001b[0;31m       \u001b[0mdistance_pixel\u001b[0m \u001b[0;34m=\u001b[0m \u001b[0mmath\u001b[0m\u001b[0;34m.\u001b[0m\u001b[0mdist\u001b[0m\u001b[0;34m(\u001b[0m\u001b[0mint\u001b[0m\u001b[0;34m(\u001b[0m\u001b[0mfirst_array\u001b[0m\u001b[0;34m)\u001b[0m\u001b[0;34m,\u001b[0m\u001b[0mint\u001b[0m\u001b[0;34m(\u001b[0m\u001b[0msecond_array\u001b[0m\u001b[0;34m)\u001b[0m\u001b[0;34m)\u001b[0m\u001b[0;34m\u001b[0m\u001b[0;34m\u001b[0m\u001b[0m\n\u001b[0m\u001b[1;32m     10\u001b[0m       \u001b[0mvel_per_frame\u001b[0m\u001b[0;34m.\u001b[0m\u001b[0mappend\u001b[0m\u001b[0;34m(\u001b[0m\u001b[0mmath\u001b[0m\u001b[0;34m.\u001b[0m\u001b[0mdist\u001b[0m\u001b[0;34m(\u001b[0m\u001b[0mfirst_array\u001b[0m\u001b[0;34m,\u001b[0m\u001b[0msecond_array\u001b[0m\u001b[0;34m)\u001b[0m\u001b[0;34m)\u001b[0m\u001b[0;34m\u001b[0m\u001b[0;34m\u001b[0m\u001b[0m\n\u001b[1;32m     11\u001b[0m       \u001b[0mfinal_centroids\u001b[0m\u001b[0;34m.\u001b[0m\u001b[0mremove\u001b[0m\u001b[0;34m(\u001b[0m\u001b[0mfinal_centroids\u001b[0m\u001b[0;34m[\u001b[0m\u001b[0;36m0\u001b[0m\u001b[0;34m]\u001b[0m\u001b[0;34m)\u001b[0m\u001b[0;34m\u001b[0m\u001b[0;34m\u001b[0m\u001b[0m\n",
            "\u001b[0;31mAttributeError\u001b[0m: module 'math' has no attribute 'dist'"
          ]
        }
      ]
    },
    {
      "cell_type": "code",
      "source": [
        "vel_per_frame"
      ],
      "metadata": {
        "colab": {
          "base_uri": "https://localhost:8080/"
        },
        "id": "qHiQWnGLhhRZ",
        "outputId": "e502bfb2-3b26-4c2b-ee1d-4003489ef4c1"
      },
      "execution_count": null,
      "outputs": [
        {
          "output_type": "execute_result",
          "data": {
            "text/plain": [
              "[0.0]"
            ]
          },
          "metadata": {},
          "execution_count": 48
        }
      ]
    },
    {
      "cell_type": "code",
      "source": [
        "final_centroids"
      ],
      "metadata": {
        "colab": {
          "base_uri": "https://localhost:8080/"
        },
        "id": "1raVWkDoTc9v",
        "outputId": "96bf22ad-1cf6-429b-ef8d-afc023acdc88"
      },
      "execution_count": null,
      "outputs": [
        {
          "output_type": "execute_result",
          "data": {
            "text/plain": [
              "[array([138.39484979,  28.30901288]),\n",
              " array([139.109375,  42.421875]),\n",
              " array([139.93040293,  61.55677656]),\n",
              " array([140.37847222,  85.4375    ]),\n",
              " array([141.17346939, 113.97619048]),\n",
              " array([142.05418719, 141.87192118]),\n",
              " array([141.64224138, 115.60775862]),\n",
              " array([141.47008547,  91.47435897]),\n",
              " array([141.48341232,  71.58293839]),\n",
              " array([141.485,  56.665]),\n",
              " array([141.1420765,  46.0273224]),\n",
              " array([140.92857143,  40.21428571]),\n",
              " array([140.80503145,  38.19496855]),\n",
              " array([140.82926829,  39.87804878]),\n",
              " array([141.11290323,  45.99193548]),\n",
              " array([141.05147059,  56.19852941]),\n",
              " array([141.41044776,  69.96268657]),\n",
              " array([141.58273381,  87.28776978]),\n",
              " array([142.05072464, 107.65217391]),\n",
              " array([142.15942029, 130.5       ]),\n",
              " array([142.63809524, 126.66666667]),\n",
              " array([143.5047619 , 106.53333333]),\n",
              " array([143.57894737,  90.14736842]),\n",
              " array([144.12195122,  77.52439024]),\n",
              " array([144.94520548,  68.16438356]),\n",
              " array([145.14492754,  62.86956522]),\n",
              " array([145.74137931,  60.22413793]),\n",
              " array([146.07142857,  61.05357143]),\n",
              " array([146.87272727,  64.14545455]),\n",
              " array([147.0862069 ,  70.44827586]),\n",
              " array([147.25510204,  79.51020408]),\n",
              " array([147.75700935,  90.85046729]),\n",
              " array([149.58333333, 118.02777778]),\n",
              " array([147.39393939, 131.66666667]),\n",
              " array([155.69230769, 127.5591716 ]),\n",
              " array([158.50671141, 126.46979866]),\n",
              " array([161.07801418, 125.14539007]),\n",
              " array([163.2369338 , 123.68292683]),\n",
              " array([165.63851351, 121.48310811]),\n",
              " array([166.94809689, 118.79930796]),\n",
              " array([168.42160279, 114.63066202]),\n",
              " array([168.96308725, 109.56375839]),\n",
              " array([169.91694352, 102.88039867]),\n",
              " array([171.40202703,  95.24324324]),\n",
              " array([173.91525424,  88.08813559]),\n",
              " array([178.69565217,  83.03952569]),\n",
              " array([170.12121212,  81.36363636]),\n",
              " array([172.03030303,  77.81818182]),\n",
              " array([174.25806452,  77.25806452]),\n",
              " array([176.13333333,  78.46666667]),\n",
              " array([178.12903226,  81.4516129 ]),\n",
              " array([179.63333333,  85.36666667]),\n",
              " array([181.38709677,  91.38709677]),\n",
              " array([182.5862069 ,  97.86206897]),\n",
              " array([185.13953488, 107.34883721]),\n",
              " array([175.9047619 , 115.23809524]),\n",
              " array([156.90322581, 128.32258065]),\n",
              " array([136.08571429, 143.37142857]),\n",
              " array([116.65454545, 158.52727273]),\n",
              " array([ 99.39583333, 156.52083333]),\n",
              " array([ 81.81395349, 152.90697674])]"
            ]
          },
          "metadata": {},
          "execution_count": 36
        }
      ]
    },
    {
      "cell_type": "code",
      "execution_count": null,
      "metadata": {
        "id": "uHVm__31hXec"
      },
      "outputs": [],
      "source": [
        "# original_image = cv2.imread('/content/gdrive/My Drive/pingpong/photos/stennis61.jpg')\n",
        "# image = image_preprocessing('/content/gdrive/My Drive/pingpong/photos/stennis61.jpg',(20,2,179),(75,57,251))\n",
        "\n",
        "\n",
        "# # apply connected component analysis to the thresholded image\n",
        "# output = cv2.connectedComponentsWithStats(image, cv2.CV_32S)\n",
        "# (numLabels, labels, stats, centroids) = output #Tuples \n",
        "\n",
        "\n",
        "\n",
        "# '''\n",
        "# The cv2.connectedComponentsWithStats then returns a 4-tuple of:\n",
        "# - The total number of unique labels (i.e., number of total components) that were detected\n",
        "# - A mask named labels has the same spatial dimensions as our input thresh image. \n",
        "# - For each location in labels, we have an integer ID value that corresponds to the connected component where the pixel belongs. \n",
        "# - stats: Statistics on each connected component, including the bounding box coordinates and area (in pixels).\n",
        "# - The centroids (i.e., center) (x, y)-coordinates of each connected component.\n",
        "\n",
        "# '''\n",
        "# for i in range(numLabels):\n",
        "#   if i==0:\n",
        "#     text = 'Examining components{}/{} (background)'.format(i,numLabels)\n",
        "#   else:\n",
        "#     text = 'Objects found. Examining {}/{} connected components inside this image'.format(i,numLabels)\n",
        "\n",
        "\n",
        "#   x = stats[i, cv2.CC_STAT_LEFT]\n",
        "#   y = stats[i, cv2.CC_STAT_TOP]\n",
        "#   w = stats[i, cv2.CC_STAT_WIDTH]\n",
        "#   h = stats[i, cv2.CC_STAT_HEIGHT]\n",
        "#   area = stats[i, cv2.CC_STAT_AREA]\n",
        "#   (cX, cY) = centroids[i]\n",
        "\n",
        "#   output = original_image.copy()\n",
        "\n",
        "#   print('Height{},width{},and area is{}'.format(h,w,area))\n",
        "#   cv2.rectangle(output, (x, y), (x + w, y + h), (255, 255, 0),1)\n",
        "#   cv2.circle(output, (int(cX), int(cY)),1, (0, 0, 255), -1)\n",
        "\n",
        "#   componentMask = (labels == i).astype(\"uint8\")*255 #Converting every labels that the masks detected into white colour\n",
        "#   cv2_imshow(output)\n",
        "\n",
        "#     #   Width_keep = w>13 and w<25\n",
        "#     # Height_keep = h>13 and h<25\n",
        "#     # Area_keep = area>120 and area<350"
      ]
    },
    {
      "cell_type": "code",
      "execution_count": null,
      "metadata": {
        "id": "ucMf06XjhXhM"
      },
      "outputs": [],
      "source": [
        "import pickle\n",
        "import math\n",
        "\n",
        "with open(\"/Users/shikharghimire/Desktop/tabletennis/final_centroids\", \"rb\") as fp:\n",
        "    final_centroids = pickle.load(fp)\n",
        "        \n",
        "\n",
        "\n",
        "vel_per_frame = [] #Extracting velocity per frame in every frame\n",
        "for i in range(0,len(final_centroids)):\n",
        "  for j in range(0,1):\n",
        "    if i==0:\n",
        "      vel_per_frame.append(0.0)\n",
        "    else:\n",
        "      first_array = [final_centroids[j][j],final_centroids[j][j+1]]\n",
        "      second_array = [final_centroids[j+1][j],final_centroids[j+1][j+1]]\n",
        "      distance_pixel = math.dist(int(first_array),int(second_array))\n",
        "      vel_per_frame.append(math.dist(first_array,second_array))\n",
        "      final_centroids.remove(final_centroids[0])\n",
        "      \n",
        "\n",
        "        #vel_per_frame.append((final_centroids[i][j] - final_centroids[i][j+1])+(final_centroids[i+1][j] - final_centroids[j+1][j+1]))\n"
      ]
    },
    {
      "cell_type": "code",
      "execution_count": null,
      "metadata": {
        "id": "Q-s0f7nFhXjj"
      },
      "outputs": [],
      "source": [
        "#For animmated graph\n",
        "#https://holypython.com/python-visualization-tutorial/guide-to-python-animations-animating-line-charts/#"
      ]
    },
    {
      "cell_type": "code",
      "execution_count": null,
      "metadata": {
        "id": "oYDuO6ZJhXmL"
      },
      "outputs": [],
      "source": []
    },
    {
      "cell_type": "code",
      "execution_count": null,
      "metadata": {
        "id": "GULkkf4V71px"
      },
      "outputs": [],
      "source": []
    },
    {
      "cell_type": "code",
      "execution_count": null,
      "metadata": {
        "id": "wx8C20Nz71sH"
      },
      "outputs": [],
      "source": []
    },
    {
      "cell_type": "code",
      "execution_count": null,
      "metadata": {
        "id": "EqiOoRCOlMSM"
      },
      "outputs": [],
      "source": []
    },
    {
      "cell_type": "code",
      "execution_count": null,
      "metadata": {
        "id": "QzHOBAGWlMUk"
      },
      "outputs": [],
      "source": []
    },
    {
      "cell_type": "code",
      "execution_count": null,
      "metadata": {
        "id": "ntBlrzZ_lMXI"
      },
      "outputs": [],
      "source": []
    },
    {
      "cell_type": "code",
      "execution_count": null,
      "metadata": {
        "id": "jFEY0z3TlMZh"
      },
      "outputs": [],
      "source": []
    },
    {
      "cell_type": "code",
      "execution_count": null,
      "metadata": {
        "id": "NxIbdbBdlMcE"
      },
      "outputs": [],
      "source": []
    },
    {
      "cell_type": "code",
      "execution_count": null,
      "metadata": {
        "id": "xjS9bW99lMeq"
      },
      "outputs": [],
      "source": []
    },
    {
      "cell_type": "code",
      "execution_count": null,
      "metadata": {
        "id": "yAUW1cmtlMhF"
      },
      "outputs": [],
      "source": []
    },
    {
      "cell_type": "code",
      "execution_count": null,
      "metadata": {
        "id": "tSI8BbOilMjr"
      },
      "outputs": [],
      "source": [
        "# #Let's subplot the images with hsv colour range\n",
        "# #Feeding raw dog images into preprocessing function and saving it into dogs_preprocessed folder\n",
        "# pic_directory = os.listdir(r'/content/gdrive/My Drive/pingpong/photos/')\n",
        "# pic_directory = pic_directory[:20]\n",
        "# processed_images = []\n",
        "# for image in pic_directory:\n",
        "#     if image.split('.')[-1]=='jpg':\n",
        "#       src = os.path.join(r'/content/gdrive/My Drive/pingpong/photos/',image) \n",
        "#       single_image = processed_images.append(image_preprocessing(src)) #Passing single images in image_preprocessing function"
      ]
    },
    {
      "cell_type": "code",
      "execution_count": null,
      "metadata": {
        "id": "hkpJL_d2lMmR"
      },
      "outputs": [],
      "source": []
    },
    {
      "cell_type": "code",
      "execution_count": null,
      "metadata": {
        "id": "QHj7QTFdqD3E"
      },
      "outputs": [],
      "source": [
        "# def image_preprocessing(directory,thresh):\n",
        "#   image = cv2.imread(directory)\n",
        "#   #Let's blur down the image a bit to reduce the noise in the image\n",
        "#   image = cv2.blur(image,(5,5))\n",
        "#   image = cv2.cvtColor(image,cv2.COLOR_BGR2HSV)\n",
        "#   #Let's use binarization on the image\n",
        "#   thresh_ball,image = cv2.threshold(image,thresh,255,cv2.THRESH_BINARY_INV)\n",
        "#   return image"
      ]
    },
    {
      "cell_type": "code",
      "execution_count": null,
      "metadata": {
        "id": "6M07el_-8yoL"
      },
      "outputs": [],
      "source": [
        "# pic_directory = os.listdir(r'/content/gdrive/My Drive/pingpong/photos/')"
      ]
    },
    {
      "cell_type": "code",
      "execution_count": null,
      "metadata": {
        "id": "CnLuZ9NGoz8P"
      },
      "outputs": [],
      "source": [
        "# #Feeding raw dog images into preprocessing function and saving it into dogs_preprocessed folder\n",
        "# processed_images = []\n",
        "# for image in pic_directory:\n",
        "#     if image.split('.')[-1]=='jpg':\n",
        "#       src = os.path.join(r'/content/gdrive/My Drive/pingpong/photos/',image) \n",
        "#       single_image = processed_images.append(image_preprocessing(src,80)) #Passing single images in image_preprocessing function .Previous was 45\n",
        "# figure = plt.figure(figsize = (20,20))\n",
        "# cols = 5\n",
        "# rows = 5\n",
        "# for i in range(20):\n",
        "#   ax1 = figure.add_subplot(rows,cols,i+1)\n",
        "#   image_random = random.choice(processed_images)\n",
        "#   plt.imshow(image_random,)\n",
        "\n",
        "# plt.show()\n",
        "\n"
      ]
    },
    {
      "cell_type": "code",
      "execution_count": null,
      "metadata": {
        "id": "0hssuv64MB3q"
      },
      "outputs": [],
      "source": [
        "#Now what we want to do is seperate the ball colour with rest of the colour objects\n",
        "\n",
        "# pink_lower = (22,0,241)\n",
        "# pink_upper = (179,255,255)\n",
        "\n",
        "# ####For first 30 frames\n",
        "# # pink_lower = (22,0,241)\n",
        "# # pink_upper = (179,255,255)\n",
        "\n",
        "# #(hMin = 26 , sMin = 0, vMin = 171), (hMax = 78 , sMax = 40, vMax = 255) -> Once the bat hits the ball\n",
        "\n",
        "# mask = cv2.inRange(image, pink_lower, pink_upper)"
      ]
    }
  ],
  "metadata": {
    "colab": {
      "collapsed_sections": [],
      "provenance": []
    },
    "kernelspec": {
      "display_name": "Python 3",
      "name": "python3"
    },
    "language_info": {
      "name": "python"
    }
  },
  "nbformat": 4,
  "nbformat_minor": 0
}